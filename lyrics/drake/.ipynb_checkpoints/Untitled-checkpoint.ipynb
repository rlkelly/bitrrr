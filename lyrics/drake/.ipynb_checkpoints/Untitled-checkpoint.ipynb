{
 "cells": [
  {
   "cell_type": "code",
   "execution_count": 38,
   "metadata": {
    "collapsed": false
   },
   "outputs": [
    {
     "data": {
      "text/plain": [
       "['.DS_Store',\n",
       " '.ipynb_checkpoints',\n",
       " 'Drake-0-to-100-the-catch-up-lyrics.html',\n",
       " 'Drake-10-bands-lyrics.html',\n",
       " 'Drake-1xtra-freestyle-lyrics.html',\n",
       " 'Drake-2011-juno-awards-in-toronto-lyrics.html',\n",
       " 'Drake-305-to-my-city-lyrics.html',\n",
       " 'Drake-5am-in-toronto-lyrics.html',\n",
       " 'Drake-6-god-lyrics.html',\n",
       " 'Drake-6-man-lyrics.html',\n",
       " 'Drake-6pm-in-new-york-lyrics.html',\n",
       " 'Drake-9am-in-dallas-lyrics.html',\n",
       " 'Drake-a-little-favour-gq-freestyle-lyrics.html',\n",
       " 'Drake-a-little-favour-lyrics.html',\n",
       " 'Drake-a-milli-freestyle-lyrics.html',\n",
       " 'Drake-a-night-off-lyrics.html',\n",
       " 'Drake-a-scorpios-mind-lyrics.html',\n",
       " 'Drake-about-the-game-lyrics.html',\n",
       " 'Drake-all-me-lyrics.html',\n",
       " 'Drake-all-night-long-miss-me-demo-lyrics.html',\n",
       " 'Drake-all-of-the-lights-remix-lyrics.html',\n",
       " 'Drake-all-this-love-lyrics.html',\n",
       " 'Drake-am-2-pm-lyrics.html',\n",
       " 'Drake-apology-for-autism-line-annotated.html',\n",
       " 'Drake-asthma-team-lyrics.html',\n",
       " 'Drake-atf-radio-freestyle-lyrics.html',\n",
       " 'Drake-baby-come-with-me-lyrics.html',\n",
       " 'Drake-back-to-back-freestyle-french-translate-lyrics.html',\n",
       " 'Drake-back-to-back-lyrics.html',\n",
       " 'Drake-bad-meaning-good-lyrics.html',\n",
       " 'Drake-bag-jackin-bitches-lyrics.html',\n",
       " 'Drake-bar-mitzvah-in-1999-lyrics.html',\n",
       " 'Drake-barry-bonds-freestyle-lyrics.html',\n",
       " 'Drake-barry-bonds-lyrics.html',\n",
       " 'Drake-beautiful-music-lyrics.html',\n",
       " 'Drake-belly-shit-lyrics.html',\n",
       " 'Drake-best-i-ever-had-lyrics.html',\n",
       " 'Drake-between-us-lyrics.html',\n",
       " 'Drake-bibb-city-lyrics.html',\n",
       " 'Drake-bitch-is-crazy-lyrics.html',\n",
       " 'Drake-bollywood-flow-lyrics.html',\n",
       " 'Drake-brand-new-lyrics.html',\n",
       " 'Drake-brand-new-remix-lyrics.html',\n",
       " 'Drake-brias-interlude-lyrics.html',\n",
       " 'Drake-buried-alive-interlude-lyrics.html',\n",
       " 'Drake-cameras-lyrics.html',\n",
       " 'Drake-can-i-lyrics.html',\n",
       " 'Drake-cant-hide-from-love-freestyle-lyrics.html',\n",
       " 'Drake-ceces-interlude-lyrics.html',\n",
       " 'Drake-charged-up-lyrics.html',\n",
       " 'Drake-city-is-mine-lyrics.html',\n",
       " 'Drake-closer-lyrics.html',\n",
       " 'Drake-club-paradise-lyrics.html',\n",
       " 'Drake-come-real-lyrics.html',\n",
       " 'Drake-come-thru-lyrics.html',\n",
       " 'Drake-come-winter-lyrics.html',\n",
       " 'Drake-comeback-season-lyrics.html',\n",
       " 'Drake-comments-on-macklemores-post-grammy-text-lyrics.html',\n",
       " 'Drake-company-lyrics.html',\n",
       " 'Drake-congratulations-lyrics.html',\n",
       " 'Drake-connect-lyrics.html',\n",
       " 'Drake-crew-love-lyrics.html',\n",
       " 'Drake-days-in-the-east-lyrics.html',\n",
       " 'Drake-dead-presidents-freestyle-lyrics.html',\n",
       " 'Drake-deceiving-lyrics.html',\n",
       " 'Drake-do-it-all-lyrics.html',\n",
       " 'Drake-do-it-now-lyrics.html',\n",
       " 'Drake-do-what-u-do-lyrics.html',\n",
       " 'Drake-do-what-u-do-remix-lyrics.html',\n",
       " 'Drake-doing-his-thing-lyrics.html',\n",
       " 'Drake-doing-it-wrong-lyrics.html',\n",
       " 'Drake-dont-you-have-a-man-lyrics.html',\n",
       " 'Drake-draft-day-lyrics.html',\n",
       " 'Drake-drake-light-up-cookin-soul-remix-lyrics.html',\n",
       " 'Drake-drakes-tattoos-lyrics.html',\n",
       " 'Drake-dreams-money-can-buy-lyrics.html',\n",
       " 'Drake-easy-to-please-lyrics.html',\n",
       " 'Drake-energy-lyrics.html',\n",
       " 'Untitled.ipynb']"
      ]
     },
     "execution_count": 38,
     "metadata": {},
     "output_type": "execute_result"
    }
   ],
   "source": [
    "import pattern\n",
    "from pattern.web import URL, DOM, plaintext\n",
    "\n",
    "from os import listdir\n",
    "from os.path import isfile, join\n",
    "import os\n",
    "\n",
    "lyrics = listdir(os.getcwd())"
   ]
  },
  {
   "cell_type": "code",
   "execution_count": 5,
   "metadata": {
    "collapsed": true
   },
   "outputs": [],
   "source": [
    "f = open('Drake-0-to-100-the-catch-up-lyrics.html')"
   ]
  },
  {
   "cell_type": "code",
   "execution_count": 6,
   "metadata": {
    "collapsed": true
   },
   "outputs": [],
   "source": [
    "page = f.read()"
   ]
  },
  {
   "cell_type": "code",
   "execution_count": 19,
   "metadata": {
    "collapsed": false
   },
   "outputs": [],
   "source": [
    "dom = DOM(page)"
   ]
  },
  {
   "cell_type": "code",
   "execution_count": 22,
   "metadata": {
    "collapsed": true
   },
   "outputs": [],
   "source": [
    "lyrics = dom(\".lyrics\")[0]"
   ]
  },
  {
   "cell_type": "code",
   "execution_count": 25,
   "metadata": {
    "collapsed": false
   },
   "outputs": [],
   "source": [
    "p = plaintext(lyrics.content)"
   ]
  },
  {
   "cell_type": "code",
   "execution_count": 26,
   "metadata": {
    "collapsed": false,
    "scrolled": true
   },
   "outputs": [
    {
     "data": {
      "text/plain": [
       "u'[Produced by Boi-1da, Frank Dukes, Noah \"40\" Shebib, & Nineteen85]\\n\\n[Part I: 0 to 100]\\n\\n[Verse]\\nFuck bein\\' on some chill shit\\nWe go 0 to 100 nigga, real quick\\nThey be on that rap-to-pay-the-bill shit\\nAnd I don\\'t feel that shit, not even a little bit\\nOh Lord, know yourself, know your worth, nigga\\nMy actions been louder than my words, nigga\\nHow you so high, but still so down to Earth, nigga\\nIf niggas wanna do it, we can do it on they turf, nigga\\nOh Lord, I\\'m the rookie and the vet\\nShoutout to the bitches out here holdin\\' down the set\\nAll up in my phone, lookin\\' at pictures from the other night\\nShe gon\\' be upset if she keep scrollin\\' to the left, dawg\\nShe gon\\' see some shit that she don\\'t wanna see\\nShe ain\\'t ready for it\\nIf I ain\\'t the greatest then I\\'m headed for it\\nThat mean I\\'m way up\\nThe 6 ain\\'t friendly but that\\'s where I lay up\\nThis shit a mothafuckin\\' lay up\\nI been Steph Curry with the shot\\nBeen cookin\\' with the sauce, Chef Curry with the pot, boy\\n360 with the wrist, boy\\nWho the fuck them niggas is, boy?\\nOVO, man we really with the shits, boy\\nYeah, really with the shits\\nI should prolly sign to Hit-Boy cause I got all the hits, boy\\nFuck all that \"Drake you gotta chill\" shit\\nI be on my Lil Mouse drill shit\\nFuck all that rap-to-pay-your-bill shit\\nI\\'m on some Raptors-pay-my-bills shit\\nAll up on TV, I thought it\\'d make me richer\\nWasn\\'t payin\\' me enough, I needed somethin\\' quicker\\nSo now I\\'m all in Niko\\'s basement puttin\\' work in on the phones\\nEither that or drive to Money Mart to make the pickups\\nMan it\\'s 2008, I\\'m tryna paint the picture\\nComeback Season in the works and now I\\'m thinkin\\' bigger\\nI got 40 in the studio, every night, late night\\nGotta watch that shit, don\\'t want to make him sicker\\nThat\\'s my nigga\\nOh Lord, got a whole lot to show for it\\nI mean we can really get it, we can go for it\\nI\\'m just here for the bucks and the billis, nigga\\nDon\\'t make me kill one of the GOATs for it\\nI run this shit, they like \"Go Forrest\\nRun Forrest, run Forrest, go Forrest\"\\nYeah, I mean you already wrote for us\\nDamn, nigga, what\\'s one more quote for us?\\nOh Lord, who else soundin\\' like this?\\nThey ain\\'t make me what I am, they just found me like this\\nI was ready... fuck that, I\\'ve been ready\\nSince my dad used to tell me he was comin\\' to the house to get me\\nHe ain\\'t show up\\nValuable lesson, man I had to grow up\\nThat\\'s why I never ask for help\\nI\\'ll do it for you niggas and do it for myself\\n\\n[Outro]\\nI go 0 to 100, nigga, real quick\\nReal quick, whole squad on that real shit\\n0 to 100, nigga, real quick\\nReal quick, real fuckin\\' quick, nigga\\n0 to 100, nigga, real quick\\nReal quick, whole squad on that real shit\\n0 to 100, nigga, real quick\\nReal quick, real fuckin\\' quick, nigga\\n\\n[Part II: The Catch Up]\\n\\n[Bridge]\\nWhole squad on that real shit\\nWhole squad on that real shit\\nWhole squad on that real shit\\n\\n[Verse]\\nThe other night, Lavish Lee told me that I\\'m all these people listen to\\nShe said they love me unconditional\\nImagine how it feel to watch another nigga at the top\\nYou know that if you wasn\\'t you, you would be dissin\\' you, dawg\\nDamn, okay, from that perspective\\nI see what you\\'re talkin\\' \\'bout, no way to soften that\\nCause me, I was tryna find out where I lost \\'em at\\nBut maybe I ain\\'t lose \\'em at all\\nMaybe I keep movin\\' forward and they\\'re just stagnant, they ain\\'t movin\\' at all\\nBut when they need a favor, who do they call?\\nMaybe I\\'m searchin\\' for the problems, askin\\' what was said and who was involved\\nToo focused on people\\'s feedback and provin\\' \\'em wrong\\nThey say the shoe can always fit, no matter whose foot it\\'s on\\nThese days feel like I\\'m squeezin\\' in \\'em\\nWhoever wore \\'em before just wasn\\'t thinkin\\' big enough\\nI\\'m \\'bout to leave \\'em with \\'em\\nCause if I run in the game in these, man the seams are splittin\\'\\nNo pun intended but they\\'re smellin\\' defeat in the air\\nHeaded where nobody took it, who meetin\\' me there?\\nThey tell him that he\\'s talkin\\' crazy but he doesn\\'t care\\nBein\\' humble don\\'t work as well as bein\\' aware\\nListen up, boy, you\\'re better off eavesdroppin\\'\\nWe already got spring 2015 poppin\\'\\nPND droppin\\', Reps-up P droppin\\'\\nMajid Jordan droppin\\', OB droppin\\', not to mention me droppin\\'\\nFeel like we paid the refs off, man we fixed the game\\nMe and Noel been at it before Twitter names\\nYeah, been on the move like the lease is up\\nAnd I can\\'t even name one person that\\'s keepin\\' up\\nDamn, fuck how it was in the past tense\\nAsk yourself, how do we match up now?\\nCause I\\'m only 27 and I\\'m only gettin\\' better\\nIf I haven\\'t passed you yet, watch me catch up now, for real\\n\\n[Outro: James Blake] \\xd79\\nCould it be the way that I\\'ll catch up'"
      ]
     },
     "execution_count": 26,
     "metadata": {},
     "output_type": "execute_result"
    }
   ],
   "source": [
    "p"
   ]
  },
  {
   "cell_type": "code",
   "execution_count": null,
   "metadata": {
    "collapsed": true
   },
   "outputs": [],
   "source": []
  }
 ],
 "metadata": {
  "kernelspec": {
   "display_name": "Python 2",
   "language": "python",
   "name": "python2"
  },
  "language_info": {
   "codemirror_mode": {
    "name": "ipython",
    "version": 2
   },
   "file_extension": ".py",
   "mimetype": "text/x-python",
   "name": "python",
   "nbconvert_exporter": "python",
   "pygments_lexer": "ipython2",
   "version": "2.7.10"
  }
 },
 "nbformat": 4,
 "nbformat_minor": 0
}
